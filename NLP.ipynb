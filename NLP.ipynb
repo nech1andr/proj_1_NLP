{
 "cells": [
  {
   "cell_type": "code",
   "execution_count": 1,
   "id": "6693ef9c-c4af-48e8-b775-dabb53f91277",
   "metadata": {},
   "outputs": [
    {
     "data": {
      "text/plain": [
       "'Hilarious face_with_tears_of_joy. The feeling of making a sale smiling_face_with_sunglasses, The feeling of actually fulfilling orders unamused_face'"
      ]
     },
     "execution_count": 1,
     "metadata": {},
     "output_type": "execute_result"
    }
   ],
   "source": [
    "import re\n",
    "import pickle\n",
    "from emot.emo_unicode import UNICODE_EMOJI, EMOTICONS_EMO\n",
    "import matplotlib.pyplot as plt \n",
    "import numpy as np\n",
    "import pandas as pd\n",
    "import spacy\n",
    "import en_core_web_sm\n",
    "from sklearn.feature_extraction.text import CountVectorizer\n",
    "import tensorflow.keras as keras\n",
    "import matplotlib.pyplot as plt\n",
    "import tensorflow as tf\n",
    "from tensorflow.keras.preprocessing.text import Tokenizer\n",
    "from tensorflow.keras.preprocessing.sequence import pad_sequences\n",
    "from sklearn.model_selection import train_test_split\n",
    "from sklearn.metrics import accuracy_score\n",
    "def convert_emojis(text):\n",
    "    for emot in UNICODE_EMOJI:\n",
    "        text = text.replace(emot, \"_\".join(UNICODE_EMOJI[emot].replace(\",\",\"\").replace(\":\",\"\").split()))\n",
    "    return text\n",
    "\n",
    "text_em = \"Hilarious 😂. The feeling of making a sale 😎, The feeling of actually fulfilling orders 😒\"\n",
    "\n",
    "convert_emojis(text_em)\n",
    "\n"
   ]
  },
  {
   "cell_type": "code",
   "execution_count": 2,
   "id": "d8452e01-ac64-46eb-a483-21e938662894",
   "metadata": {
    "tags": []
   },
   "outputs": [
    {
     "data": {
      "text/html": [
       "<div>\n",
       "<style scoped>\n",
       "    .dataframe tbody tr th:only-of-type {\n",
       "        vertical-align: middle;\n",
       "    }\n",
       "\n",
       "    .dataframe tbody tr th {\n",
       "        vertical-align: top;\n",
       "    }\n",
       "\n",
       "    .dataframe thead th {\n",
       "        text-align: right;\n",
       "    }\n",
       "</style>\n",
       "<table border=\"1\" class=\"dataframe\">\n",
       "  <thead>\n",
       "    <tr style=\"text-align: right;\">\n",
       "      <th></th>\n",
       "      <th>Sentiment</th>\n",
       "      <th>SentimentText</th>\n",
       "    </tr>\n",
       "  </thead>\n",
       "  <tbody>\n",
       "    <tr>\n",
       "      <th>0</th>\n",
       "      <td>neutral</td>\n",
       "      <td>@VirginAmerica What @dhepburn said.</td>\n",
       "    </tr>\n",
       "    <tr>\n",
       "      <th>1</th>\n",
       "      <td>positive</td>\n",
       "      <td>@VirginAmerica plus you've added commercials t...</td>\n",
       "    </tr>\n",
       "    <tr>\n",
       "      <th>2</th>\n",
       "      <td>neutral</td>\n",
       "      <td>@VirginAmerica I didn't today... Must mean I n...</td>\n",
       "    </tr>\n",
       "    <tr>\n",
       "      <th>3</th>\n",
       "      <td>negative</td>\n",
       "      <td>@VirginAmerica it's really aggressive to blast...</td>\n",
       "    </tr>\n",
       "    <tr>\n",
       "      <th>4</th>\n",
       "      <td>negative</td>\n",
       "      <td>@VirginAmerica and it's a really big bad thing...</td>\n",
       "    </tr>\n",
       "  </tbody>\n",
       "</table>\n",
       "</div>"
      ],
      "text/plain": [
       "  Sentiment                                      SentimentText\n",
       "0   neutral                @VirginAmerica What @dhepburn said.\n",
       "1  positive  @VirginAmerica plus you've added commercials t...\n",
       "2   neutral  @VirginAmerica I didn't today... Must mean I n...\n",
       "3  negative  @VirginAmerica it's really aggressive to blast...\n",
       "4  negative  @VirginAmerica and it's a really big bad thing..."
      ]
     },
     "execution_count": 2,
     "metadata": {},
     "output_type": "execute_result"
    }
   ],
   "source": [
    "nlp = spacy.load('en_core_web_lg')\n",
    "\n",
    "tw = pd.read_csv(\"Tweets.csv\", encoding='latin-1')\n",
    "\n",
    "tw = tw[['airline_sentiment','text']].copy()\n",
    "tw.columns = ['Sentiment', 'SentimentText']\n",
    "\n",
    "\n",
    "tw.Sentiment.value_counts()\n",
    "tw.head()\n"
   ]
  },
  {
   "cell_type": "code",
   "execution_count": 3,
   "id": "ae353500-fa88-464a-8b27-c721f92d39f5",
   "metadata": {},
   "outputs": [
    {
     "data": {
      "text/plain": [
       "Sentiment        0\n",
       "SentimentText    0\n",
       "dtype: int64"
      ]
     },
     "execution_count": 3,
     "metadata": {},
     "output_type": "execute_result"
    }
   ],
   "source": [
    "\n",
    "mappr={'negative': 0 , \n",
    "         'neutral' : 1,\n",
    "        'positive' : 2}\n",
    "\n",
    "\n",
    "tw.Sentiment = tw.Sentiment.map(mappr)\n",
    "\n",
    "tw.isnull().sum()\n",
    "\n",
    "\n",
    "\n",
    "\n"
   ]
  },
  {
   "cell_type": "code",
   "execution_count": 4,
   "id": "4392931a-dc34-4e11-a36b-a4c217fc99ba",
   "metadata": {},
   "outputs": [
    {
     "data": {
      "text/html": [
       "<div>\n",
       "<style scoped>\n",
       "    .dataframe tbody tr th:only-of-type {\n",
       "        vertical-align: middle;\n",
       "    }\n",
       "\n",
       "    .dataframe tbody tr th {\n",
       "        vertical-align: top;\n",
       "    }\n",
       "\n",
       "    .dataframe thead th {\n",
       "        text-align: right;\n",
       "    }\n",
       "</style>\n",
       "<table border=\"1\" class=\"dataframe\">\n",
       "  <thead>\n",
       "    <tr style=\"text-align: right;\">\n",
       "      <th></th>\n",
       "      <th>Sentiment</th>\n",
       "      <th>SentimentText</th>\n",
       "    </tr>\n",
       "  </thead>\n",
       "  <tbody>\n",
       "    <tr>\n",
       "      <th>0</th>\n",
       "      <td>1</td>\n",
       "      <td>@VirginAmerica What @dhepburn said.</td>\n",
       "    </tr>\n",
       "    <tr>\n",
       "      <th>1</th>\n",
       "      <td>2</td>\n",
       "      <td>@VirginAmerica plus you've added commercials t...</td>\n",
       "    </tr>\n",
       "    <tr>\n",
       "      <th>2</th>\n",
       "      <td>1</td>\n",
       "      <td>@VirginAmerica I didn't today... Must mean I n...</td>\n",
       "    </tr>\n",
       "    <tr>\n",
       "      <th>3</th>\n",
       "      <td>0</td>\n",
       "      <td>@VirginAmerica it's really aggressive to blast...</td>\n",
       "    </tr>\n",
       "    <tr>\n",
       "      <th>4</th>\n",
       "      <td>0</td>\n",
       "      <td>@VirginAmerica and it's a really big bad thing...</td>\n",
       "    </tr>\n",
       "  </tbody>\n",
       "</table>\n",
       "</div>"
      ],
      "text/plain": [
       "   Sentiment                                      SentimentText\n",
       "0          1                @VirginAmerica What @dhepburn said.\n",
       "1          2  @VirginAmerica plus you've added commercials t...\n",
       "2          1  @VirginAmerica I didn't today... Must mean I n...\n",
       "3          0  @VirginAmerica it's really aggressive to blast...\n",
       "4          0  @VirginAmerica and it's a really big bad thing..."
      ]
     },
     "execution_count": 4,
     "metadata": {},
     "output_type": "execute_result"
    }
   ],
   "source": [
    "\n",
    "tw.head()"
   ]
  },
  {
   "cell_type": "code",
   "execution_count": 5,
   "id": "f70c89d0-166c-47d8-a200-e3cd9cf497b1",
   "metadata": {},
   "outputs": [],
   "source": [
    "\n",
    "txt_cleaning_re = \"@\\S+|https?:\\S+|http?:\\S|[^A-Za-z0-9]+\"\n",
    "\n",
    "def preprocess(text):\n",
    "    text = re.sub(txt_cleaning_re, ' ', str(text)).strip()\n",
    "    return text\n"
   ]
  },
  {
   "cell_type": "code",
   "execution_count": 6,
   "id": "1366ccc9-0ebe-4fb1-b444-67b212ac34b4",
   "metadata": {},
   "outputs": [
    {
     "data": {
      "text/plain": [
       "Sentiment        0\n",
       "SentimentText    0\n",
       "dtype: int64"
      ]
     },
     "execution_count": 6,
     "metadata": {},
     "output_type": "execute_result"
    }
   ],
   "source": [
    "\n",
    "tw.SentimentText = tw.SentimentText.apply(lambda x: preprocess(x))\n",
    "tw.Sentiment = tw.Sentiment.astype('int64')\n",
    "\n",
    "tw.isnull().sum()\n"
   ]
  },
  {
   "cell_type": "code",
   "execution_count": 7,
   "id": "de0a7a3b-f774-4405-956b-edd26ae64834",
   "metadata": {},
   "outputs": [],
   "source": [
    "train, test = train_test_split(tw,random_state=1)"
   ]
  },
  {
   "cell_type": "code",
   "execution_count": 8,
   "id": "712c18b2-f56a-4057-a962-d820dbd96664",
   "metadata": {},
   "outputs": [],
   "source": [
    "labels = keras.utils.to_categorical(train['Sentiment'].astype('int64'))\n",
    "train_text = np.array(train['SentimentText'].tolist().copy())"
   ]
  },
  {
   "cell_type": "code",
   "execution_count": 9,
   "id": "101aca72-3f54-4772-affe-2bab2c2539c3",
   "metadata": {},
   "outputs": [],
   "source": [
    "labels_test = keras.utils.to_categorical(test['Sentiment'].astype('int64'))\n",
    "test_text = np.array(test['SentimentText'].tolist().copy())"
   ]
  },
  {
   "cell_type": "code",
   "execution_count": 10,
   "id": "1e08ae79-dd92-41fa-888d-f8194584a382",
   "metadata": {},
   "outputs": [],
   "source": [
    "vocab_size = 1012\n",
    "embedding_dim = 16\n",
    "max_length = 142\n",
    "trunc_type='post'\n",
    "padding_type='post'\n",
    "oov_tok = \"<OOV>\"\n",
    "\n",
    "tokenizer = Tokenizer(num_words = vocab_size, oov_token=oov_tok)\n",
    "tokenizer.fit_on_texts(train_text)\n",
    "word_index = tokenizer.word_index\n",
    "sequences = tokenizer.texts_to_sequences(train_text)\n",
    "padded = pad_sequences(sequences,maxlen=max_length, padding=padding_type, \n",
    "                       truncating=trunc_type)\n",
    "\n",
    "\n",
    "testing_sequences = tokenizer.texts_to_sequences(test_text)\n",
    "testing_padded = pad_sequences(testing_sequences,maxlen=max_length, \n",
    "                               padding=padding_type, truncating=trunc_type)\n"
   ]
  },
  {
   "cell_type": "code",
   "execution_count": 11,
   "id": "bb549828-53b8-46cb-8de4-03794580207e",
   "metadata": {},
   "outputs": [
    {
     "data": {
      "text/plain": [
       "array([[  3, 157, 421, ...,   0,   0,   0],\n",
       "       [  3, 210,   6, ...,   0,   0,   0],\n",
       "       [  1,   1,   1, ...,   0,   0,   0],\n",
       "       ...,\n",
       "       [ 72,   1,  73, ...,   0,   0,   0],\n",
       "       [176, 412, 144, ...,   0,   0,   0],\n",
       "       [490,   1, 171, ...,   0,   0,   0]], dtype=int32)"
      ]
     },
     "execution_count": 11,
     "metadata": {},
     "output_type": "execute_result"
    }
   ],
   "source": [
    "testing_padded"
   ]
  },
  {
   "cell_type": "code",
   "execution_count": 12,
   "id": "888a93d5-ca6d-4689-b319-fda91e17e0a6",
   "metadata": {},
   "outputs": [
    {
     "name": "stdout",
     "output_type": "stream",
     "text": [
      "change made in just over 3 hours for something that should have taken <OOV> online i am not <OOV> <OOV> the agent though ? ? ? ? ? ? ? ? ? ? ? ? ? ? ? ? ? ? ? ? ? ? ? ? ? ? ? ? ? ? ? ? ? ? ? ? ? ? ? ? ? ? ? ? ? ? ? ? ? ? ? ? ? ? ? ? ? ? ? ? ? ? ? ? ? ? ? ? ? ? ? ? ? ? ? ? ? ? ? ? ? ? ? ? ? ? ? ? ? ? ? ? ? ? ? ? ? ? ? ? ? ? ? ? ? ? ? ? ? ? ? ? ? ? ? ? ? ? ?\n",
      "\n",
      "Change made in just over 3 hours For something that should have taken seconds online I am not thrilled Loved the agent though\n"
     ]
    }
   ],
   "source": [
    "reverse_word_index = dict([(value, key) for (key, value) in word_index.items()])\n",
    "\n",
    "def decode_review(text):\n",
    "    return ' '.join([reverse_word_index.get(i, '?') for i in text])\n",
    "\n",
    "print(decode_review(padded[0]))\n",
    "print()\n",
    "print(train_text[0])"
   ]
  },
  {
   "cell_type": "code",
   "execution_count": 13,
   "id": "781a7920-77e0-475b-8785-24d24d21b1c7",
   "metadata": {},
   "outputs": [
    {
     "name": "stdout",
     "output_type": "stream",
     "text": [
      "Model: \"sequential\"\n",
      "_________________________________________________________________\n",
      "Layer (type)                 Output Shape              Param #   \n",
      "=================================================================\n",
      "embedding (Embedding)        (None, 142, 16)           16192     \n",
      "_________________________________________________________________\n",
      "global_average_pooling1d (Gl (None, 16)                0         \n",
      "_________________________________________________________________\n",
      "dense (Dense)                (None, 128)               2176      \n",
      "_________________________________________________________________\n",
      "batch_normalization (BatchNo (None, 128)               512       \n",
      "_________________________________________________________________\n",
      "dropout (Dropout)            (None, 128)               0         \n",
      "_________________________________________________________________\n",
      "dense_1 (Dense)              (None, 64)                8256      \n",
      "_________________________________________________________________\n",
      "batch_normalization_1 (Batch (None, 64)                256       \n",
      "_________________________________________________________________\n",
      "dropout_1 (Dropout)          (None, 64)                0         \n",
      "_________________________________________________________________\n",
      "dense_2 (Dense)              (None, 32)                2080      \n",
      "_________________________________________________________________\n",
      "batch_normalization_2 (Batch (None, 32)                128       \n",
      "_________________________________________________________________\n",
      "dropout_2 (Dropout)          (None, 32)                0         \n",
      "_________________________________________________________________\n",
      "dense_3 (Dense)              (None, 3)                 99        \n",
      "=================================================================\n",
      "Total params: 29,699\n",
      "Trainable params: 29,251\n",
      "Non-trainable params: 448\n",
      "_________________________________________________________________\n"
     ]
    }
   ],
   "source": [
    "model = tf.keras.Sequential([\n",
    "    tf.keras.layers.Embedding(vocab_size, embedding_dim, input_length=max_length),\n",
    "    tf.keras.layers.GlobalAveragePooling1D(),\n",
    "    tf.keras.layers.Dense(128, activation ='relu'),\n",
    "    tf.keras.layers.BatchNormalization(),\n",
    "    tf.keras.layers.Dropout(0.5),\n",
    "    tf.keras.layers.Dense(64, activation = 'relu'),\n",
    "    tf.keras.layers.BatchNormalization(),\n",
    "    tf.keras.layers.Dropout(0.5),\n",
    "    tf.keras.layers.Dense(32, activation = 'relu'),\n",
    "    tf.keras.layers.BatchNormalization(),\n",
    "    tf.keras.layers.Dropout(0.5),\n",
    "    tf.keras.layers.Dense(3, activation='softmax'),\n",
    "    \n",
    "])\n",
    "model.compile(loss='categorical_crossentropy',optimizer='adam',metrics=['accuracy'])\n",
    "model.summary()"
   ]
  },
  {
   "cell_type": "code",
   "execution_count": 14,
   "id": "a767da2b-2be5-499e-835b-7dbf346a9024",
   "metadata": {},
   "outputs": [],
   "source": [
    "monitor= keras.callbacks.EarlyStopping(patience=30, min_delta=0.001,monitor='test_accuracy', restore_best_weights=True)\n",
    "\n"
   ]
  },
  {
   "cell_type": "code",
   "execution_count": 15,
   "id": "aceab964-dfa7-47f5-bc97-0c54c14c2a1c",
   "metadata": {},
   "outputs": [
    {
     "name": "stdout",
     "output_type": "stream",
     "text": [
      "Epoch 1/50\n",
      "344/344 [==============================] - 3s 2ms/step - loss: 1.2686 - accuracy: 0.5296 - val_loss: 0.8997 - val_accuracy: 0.6260\n",
      "WARNING:tensorflow:Early stopping conditioned on metric `test_accuracy` which is not available. Available metrics are: loss,accuracy,val_loss,val_accuracy\n",
      "Epoch 2/50\n",
      "344/344 [==============================] - 1s 2ms/step - loss: 0.8340 - accuracy: 0.6512 - val_loss: 0.8066 - val_accuracy: 0.6462\n",
      "WARNING:tensorflow:Early stopping conditioned on metric `test_accuracy` which is not available. Available metrics are: loss,accuracy,val_loss,val_accuracy\n",
      "Epoch 3/50\n",
      "344/344 [==============================] - 1s 2ms/step - loss: 0.6746 - accuracy: 0.7148 - val_loss: 0.9599 - val_accuracy: 0.5694\n",
      "WARNING:tensorflow:Early stopping conditioned on metric `test_accuracy` which is not available. Available metrics are: loss,accuracy,val_loss,val_accuracy\n",
      "Epoch 4/50\n",
      "344/344 [==============================] - 1s 2ms/step - loss: 0.6157 - accuracy: 0.7512 - val_loss: 1.3167 - val_accuracy: 0.5161\n",
      "WARNING:tensorflow:Early stopping conditioned on metric `test_accuracy` which is not available. Available metrics are: loss,accuracy,val_loss,val_accuracy\n",
      "Epoch 5/50\n",
      "344/344 [==============================] - 1s 2ms/step - loss: 0.5755 - accuracy: 0.7705 - val_loss: 0.5849 - val_accuracy: 0.7549\n",
      "WARNING:tensorflow:Early stopping conditioned on metric `test_accuracy` which is not available. Available metrics are: loss,accuracy,val_loss,val_accuracy\n",
      "Epoch 6/50\n",
      "344/344 [==============================] - 1s 2ms/step - loss: 0.5521 - accuracy: 0.7827 - val_loss: 0.6594 - val_accuracy: 0.7298\n",
      "WARNING:tensorflow:Early stopping conditioned on metric `test_accuracy` which is not available. Available metrics are: loss,accuracy,val_loss,val_accuracy\n",
      "Epoch 7/50\n",
      "344/344 [==============================] - 1s 2ms/step - loss: 0.5317 - accuracy: 0.7943 - val_loss: 0.7417 - val_accuracy: 0.6932\n",
      "WARNING:tensorflow:Early stopping conditioned on metric `test_accuracy` which is not available. Available metrics are: loss,accuracy,val_loss,val_accuracy\n",
      "Epoch 8/50\n",
      "344/344 [==============================] - 1s 2ms/step - loss: 0.5229 - accuracy: 0.7979 - val_loss: 0.7870 - val_accuracy: 0.7148\n",
      "WARNING:tensorflow:Early stopping conditioned on metric `test_accuracy` which is not available. Available metrics are: loss,accuracy,val_loss,val_accuracy\n",
      "Epoch 9/50\n",
      "344/344 [==============================] - 1s 2ms/step - loss: 0.5207 - accuracy: 0.8015 - val_loss: 0.9751 - val_accuracy: 0.5962\n",
      "WARNING:tensorflow:Early stopping conditioned on metric `test_accuracy` which is not available. Available metrics are: loss,accuracy,val_loss,val_accuracy\n",
      "Epoch 10/50\n",
      "344/344 [==============================] - 1s 2ms/step - loss: 0.5044 - accuracy: 0.8037 - val_loss: 1.0721 - val_accuracy: 0.6549\n",
      "WARNING:tensorflow:Early stopping conditioned on metric `test_accuracy` which is not available. Available metrics are: loss,accuracy,val_loss,val_accuracy\n",
      "Epoch 11/50\n",
      "344/344 [==============================] - 1s 2ms/step - loss: 0.5003 - accuracy: 0.8039 - val_loss: 1.0214 - val_accuracy: 0.6639\n",
      "WARNING:tensorflow:Early stopping conditioned on metric `test_accuracy` which is not available. Available metrics are: loss,accuracy,val_loss,val_accuracy\n",
      "Epoch 12/50\n",
      "344/344 [==============================] - 1s 2ms/step - loss: 0.5009 - accuracy: 0.8074 - val_loss: 1.0587 - val_accuracy: 0.6443\n",
      "WARNING:tensorflow:Early stopping conditioned on metric `test_accuracy` which is not available. Available metrics are: loss,accuracy,val_loss,val_accuracy\n",
      "Epoch 13/50\n",
      "344/344 [==============================] - 1s 2ms/step - loss: 0.4951 - accuracy: 0.8106 - val_loss: 0.6595 - val_accuracy: 0.7298\n",
      "WARNING:tensorflow:Early stopping conditioned on metric `test_accuracy` which is not available. Available metrics are: loss,accuracy,val_loss,val_accuracy\n",
      "Epoch 14/50\n",
      "344/344 [==============================] - 1s 2ms/step - loss: 0.4918 - accuracy: 0.8117 - val_loss: 1.2279 - val_accuracy: 0.5153\n",
      "WARNING:tensorflow:Early stopping conditioned on metric `test_accuracy` which is not available. Available metrics are: loss,accuracy,val_loss,val_accuracy\n",
      "Epoch 15/50\n",
      "344/344 [==============================] - 1s 2ms/step - loss: 0.4843 - accuracy: 0.8164 - val_loss: 1.0017 - val_accuracy: 0.5943\n",
      "WARNING:tensorflow:Early stopping conditioned on metric `test_accuracy` which is not available. Available metrics are: loss,accuracy,val_loss,val_accuracy\n",
      "Epoch 16/50\n",
      "344/344 [==============================] - 1s 2ms/step - loss: 0.4842 - accuracy: 0.8146 - val_loss: 0.8417 - val_accuracy: 0.6954\n",
      "WARNING:tensorflow:Early stopping conditioned on metric `test_accuracy` which is not available. Available metrics are: loss,accuracy,val_loss,val_accuracy\n",
      "Epoch 17/50\n",
      "344/344 [==============================] - 1s 2ms/step - loss: 0.4829 - accuracy: 0.8142 - val_loss: 0.6798 - val_accuracy: 0.7361\n",
      "WARNING:tensorflow:Early stopping conditioned on metric `test_accuracy` which is not available. Available metrics are: loss,accuracy,val_loss,val_accuracy\n",
      "Epoch 18/50\n",
      "344/344 [==============================] - 1s 2ms/step - loss: 0.4763 - accuracy: 0.8194 - val_loss: 1.1178 - val_accuracy: 0.6628\n",
      "WARNING:tensorflow:Early stopping conditioned on metric `test_accuracy` which is not available. Available metrics are: loss,accuracy,val_loss,val_accuracy\n",
      "Epoch 19/50\n",
      "344/344 [==============================] - 1s 2ms/step - loss: 0.4751 - accuracy: 0.8154 - val_loss: 1.5816 - val_accuracy: 0.4716\n",
      "WARNING:tensorflow:Early stopping conditioned on metric `test_accuracy` which is not available. Available metrics are: loss,accuracy,val_loss,val_accuracy\n",
      "Epoch 20/50\n",
      "344/344 [==============================] - 1s 2ms/step - loss: 0.4713 - accuracy: 0.8178 - val_loss: 0.6725 - val_accuracy: 0.7137\n",
      "WARNING:tensorflow:Early stopping conditioned on metric `test_accuracy` which is not available. Available metrics are: loss,accuracy,val_loss,val_accuracy\n",
      "Epoch 21/50\n",
      "344/344 [==============================] - 1s 2ms/step - loss: 0.4768 - accuracy: 0.8168 - val_loss: 0.6465 - val_accuracy: 0.7306\n",
      "WARNING:tensorflow:Early stopping conditioned on metric `test_accuracy` which is not available. Available metrics are: loss,accuracy,val_loss,val_accuracy\n",
      "Epoch 22/50\n",
      "344/344 [==============================] - 1s 2ms/step - loss: 0.4677 - accuracy: 0.8210 - val_loss: 0.7234 - val_accuracy: 0.7320\n",
      "WARNING:tensorflow:Early stopping conditioned on metric `test_accuracy` which is not available. Available metrics are: loss,accuracy,val_loss,val_accuracy\n",
      "Epoch 23/50\n",
      "344/344 [==============================] - 1s 2ms/step - loss: 0.4580 - accuracy: 0.8223 - val_loss: 2.8624 - val_accuracy: 0.3246\n",
      "WARNING:tensorflow:Early stopping conditioned on metric `test_accuracy` which is not available. Available metrics are: loss,accuracy,val_loss,val_accuracy\n",
      "Epoch 24/50\n",
      "344/344 [==============================] - 1s 2ms/step - loss: 0.4649 - accuracy: 0.8167 - val_loss: 0.7186 - val_accuracy: 0.7158\n",
      "WARNING:tensorflow:Early stopping conditioned on metric `test_accuracy` which is not available. Available metrics are: loss,accuracy,val_loss,val_accuracy\n",
      "Epoch 25/50\n",
      "344/344 [==============================] - 1s 2ms/step - loss: 0.4618 - accuracy: 0.8214 - val_loss: 0.6926 - val_accuracy: 0.7303\n",
      "WARNING:tensorflow:Early stopping conditioned on metric `test_accuracy` which is not available. Available metrics are: loss,accuracy,val_loss,val_accuracy\n",
      "Epoch 26/50\n",
      "344/344 [==============================] - 1s 2ms/step - loss: 0.4578 - accuracy: 0.8246 - val_loss: 1.0236 - val_accuracy: 0.6443\n",
      "WARNING:tensorflow:Early stopping conditioned on metric `test_accuracy` which is not available. Available metrics are: loss,accuracy,val_loss,val_accuracy\n",
      "Epoch 27/50\n",
      "344/344 [==============================] - 1s 2ms/step - loss: 0.4539 - accuracy: 0.8213 - val_loss: 0.6549 - val_accuracy: 0.7421\n",
      "WARNING:tensorflow:Early stopping conditioned on metric `test_accuracy` which is not available. Available metrics are: loss,accuracy,val_loss,val_accuracy\n",
      "Epoch 28/50\n",
      "344/344 [==============================] - 1s 2ms/step - loss: 0.4488 - accuracy: 0.8276 - val_loss: 0.7520 - val_accuracy: 0.7134\n",
      "WARNING:tensorflow:Early stopping conditioned on metric `test_accuracy` which is not available. Available metrics are: loss,accuracy,val_loss,val_accuracy\n",
      "Epoch 29/50\n",
      "344/344 [==============================] - 1s 2ms/step - loss: 0.4494 - accuracy: 0.8285 - val_loss: 0.9338 - val_accuracy: 0.5839\n",
      "WARNING:tensorflow:Early stopping conditioned on metric `test_accuracy` which is not available. Available metrics are: loss,accuracy,val_loss,val_accuracy\n",
      "Epoch 30/50\n",
      "344/344 [==============================] - 1s 2ms/step - loss: 0.4489 - accuracy: 0.8233 - val_loss: 1.1217 - val_accuracy: 0.6079\n",
      "WARNING:tensorflow:Early stopping conditioned on metric `test_accuracy` which is not available. Available metrics are: loss,accuracy,val_loss,val_accuracy\n",
      "Epoch 31/50\n",
      "344/344 [==============================] - 1s 2ms/step - loss: 0.4454 - accuracy: 0.8266 - val_loss: 0.7071 - val_accuracy: 0.7369\n",
      "WARNING:tensorflow:Early stopping conditioned on metric `test_accuracy` which is not available. Available metrics are: loss,accuracy,val_loss,val_accuracy\n",
      "Epoch 32/50\n",
      "344/344 [==============================] - 1s 2ms/step - loss: 0.4494 - accuracy: 0.8264 - val_loss: 0.9500 - val_accuracy: 0.6650\n",
      "WARNING:tensorflow:Early stopping conditioned on metric `test_accuracy` which is not available. Available metrics are: loss,accuracy,val_loss,val_accuracy\n",
      "Epoch 33/50\n",
      "344/344 [==============================] - 1s 2ms/step - loss: 0.4402 - accuracy: 0.8249 - val_loss: 0.6916 - val_accuracy: 0.7235\n",
      "WARNING:tensorflow:Early stopping conditioned on metric `test_accuracy` which is not available. Available metrics are: loss,accuracy,val_loss,val_accuracy\n",
      "Epoch 34/50\n",
      "344/344 [==============================] - 1s 2ms/step - loss: 0.4445 - accuracy: 0.8295 - val_loss: 0.6051 - val_accuracy: 0.7658\n",
      "WARNING:tensorflow:Early stopping conditioned on metric `test_accuracy` which is not available. Available metrics are: loss,accuracy,val_loss,val_accuracy\n",
      "Epoch 35/50\n",
      "344/344 [==============================] - 1s 2ms/step - loss: 0.4294 - accuracy: 0.8332 - val_loss: 1.0471 - val_accuracy: 0.5948\n",
      "WARNING:tensorflow:Early stopping conditioned on metric `test_accuracy` which is not available. Available metrics are: loss,accuracy,val_loss,val_accuracy\n",
      "Epoch 36/50\n",
      "344/344 [==============================] - 1s 2ms/step - loss: 0.4345 - accuracy: 0.8286 - val_loss: 0.6555 - val_accuracy: 0.7385\n",
      "WARNING:tensorflow:Early stopping conditioned on metric `test_accuracy` which is not available. Available metrics are: loss,accuracy,val_loss,val_accuracy\n",
      "Epoch 37/50\n",
      "344/344 [==============================] - 1s 2ms/step - loss: 0.4409 - accuracy: 0.8269 - val_loss: 0.7995 - val_accuracy: 0.6940\n",
      "WARNING:tensorflow:Early stopping conditioned on metric `test_accuracy` which is not available. Available metrics are: loss,accuracy,val_loss,val_accuracy\n",
      "Epoch 38/50\n",
      "344/344 [==============================] - 1s 2ms/step - loss: 0.4330 - accuracy: 0.8312 - val_loss: 0.6460 - val_accuracy: 0.7325\n",
      "WARNING:tensorflow:Early stopping conditioned on metric `test_accuracy` which is not available. Available metrics are: loss,accuracy,val_loss,val_accuracy\n",
      "Epoch 39/50\n",
      "344/344 [==============================] - 1s 2ms/step - loss: 0.4321 - accuracy: 0.8301 - val_loss: 0.6166 - val_accuracy: 0.7686\n",
      "WARNING:tensorflow:Early stopping conditioned on metric `test_accuracy` which is not available. Available metrics are: loss,accuracy,val_loss,val_accuracy\n",
      "Epoch 40/50\n",
      "344/344 [==============================] - 1s 2ms/step - loss: 0.4281 - accuracy: 0.8326 - val_loss: 1.7231 - val_accuracy: 0.4820\n",
      "WARNING:tensorflow:Early stopping conditioned on metric `test_accuracy` which is not available. Available metrics are: loss,accuracy,val_loss,val_accuracy\n",
      "Epoch 41/50\n",
      "344/344 [==============================] - 1s 2ms/step - loss: 0.4254 - accuracy: 0.8299 - val_loss: 1.1161 - val_accuracy: 0.6213\n",
      "WARNING:tensorflow:Early stopping conditioned on metric `test_accuracy` which is not available. Available metrics are: loss,accuracy,val_loss,val_accuracy\n",
      "Epoch 42/50\n",
      "344/344 [==============================] - 1s 2ms/step - loss: 0.4303 - accuracy: 0.8304 - val_loss: 0.7091 - val_accuracy: 0.7087\n",
      "WARNING:tensorflow:Early stopping conditioned on metric `test_accuracy` which is not available. Available metrics are: loss,accuracy,val_loss,val_accuracy\n",
      "Epoch 43/50\n",
      "344/344 [==============================] - 1s 2ms/step - loss: 0.4151 - accuracy: 0.8352 - val_loss: 1.2813 - val_accuracy: 0.5284\n",
      "WARNING:tensorflow:Early stopping conditioned on metric `test_accuracy` which is not available. Available metrics are: loss,accuracy,val_loss,val_accuracy\n",
      "Epoch 44/50\n",
      "344/344 [==============================] - 1s 2ms/step - loss: 0.4222 - accuracy: 0.8309 - val_loss: 0.8261 - val_accuracy: 0.7175\n",
      "WARNING:tensorflow:Early stopping conditioned on metric `test_accuracy` which is not available. Available metrics are: loss,accuracy,val_loss,val_accuracy\n",
      "Epoch 45/50\n",
      "344/344 [==============================] - 1s 2ms/step - loss: 0.4243 - accuracy: 0.8309 - val_loss: 1.5497 - val_accuracy: 0.5410\n",
      "WARNING:tensorflow:Early stopping conditioned on metric `test_accuracy` which is not available. Available metrics are: loss,accuracy,val_loss,val_accuracy\n",
      "Epoch 46/50\n",
      "344/344 [==============================] - 1s 2ms/step - loss: 0.4229 - accuracy: 0.8328 - val_loss: 0.9460 - val_accuracy: 0.6634\n",
      "WARNING:tensorflow:Early stopping conditioned on metric `test_accuracy` which is not available. Available metrics are: loss,accuracy,val_loss,val_accuracy\n",
      "Epoch 47/50\n",
      "344/344 [==============================] - 1s 2ms/step - loss: 0.4245 - accuracy: 0.8348 - val_loss: 0.6654 - val_accuracy: 0.7399\n",
      "WARNING:tensorflow:Early stopping conditioned on metric `test_accuracy` which is not available. Available metrics are: loss,accuracy,val_loss,val_accuracy\n",
      "Epoch 48/50\n",
      "344/344 [==============================] - 1s 2ms/step - loss: 0.4172 - accuracy: 0.8344 - val_loss: 0.6233 - val_accuracy: 0.7705\n",
      "WARNING:tensorflow:Early stopping conditioned on metric `test_accuracy` which is not available. Available metrics are: loss,accuracy,val_loss,val_accuracy\n",
      "Epoch 49/50\n",
      "344/344 [==============================] - 1s 2ms/step - loss: 0.4123 - accuracy: 0.8356 - val_loss: 0.6711 - val_accuracy: 0.7678\n",
      "WARNING:tensorflow:Early stopping conditioned on metric `test_accuracy` which is not available. Available metrics are: loss,accuracy,val_loss,val_accuracy\n",
      "Epoch 50/50\n",
      "344/344 [==============================] - 1s 2ms/step - loss: 0.4120 - accuracy: 0.8349 - val_loss: 0.7797 - val_accuracy: 0.6918\n",
      "WARNING:tensorflow:Early stopping conditioned on metric `test_accuracy` which is not available. Available metrics are: loss,accuracy,val_loss,val_accuracy\n"
     ]
    }
   ],
   "source": [
    "num_epochs = 50\n",
    "\n",
    "history = model.fit(padded, labels, epochs=num_epochs, validation_data=(testing_padded, labels_test),\n",
    "                    callbacks=[monitor]);\n",
    "                     "
   ]
  },
  {
   "cell_type": "code",
   "execution_count": 16,
   "id": "96ffb187-2c41-4ebf-9abc-b6319ad7a364",
   "metadata": {},
   "outputs": [
    {
     "data": {
      "image/png": "[encoded data removed]",
      "text/plain": [
       "<Figure size 432x288 with 1 Axes>"
      ]
     },
     "metadata": {
      "needs_background": "light"
     },
     "output_type": "display_data"
    },
    {
     "data": {
      "image/png": "[encoded data removed]",
      "text/plain": [
       "<Figure size 432x288 with 1 Axes>"
      ]
     },
     "metadata": {
      "needs_background": "light"
     },
     "output_type": "display_data"
    }
   ],
   "source": [
    "acc = history.history['accuracy']\n",
    "val_acc = history.history['val_accuracy']\n",
    "loss = history.history['loss']\n",
    "val_loss = history.history['val_loss']\n",
    " \n",
    "epochs = range(max(history.epoch)+1)\n",
    " \n",
    "plt.plot(epochs, acc, label='Training acc')\n",
    "plt.plot(epochs, val_acc, label='Validation acc')\n",
    "plt.title('Training and val accuracy')\n",
    "plt.legend()\n",
    " \n",
    "plt.figure()\n",
    " \n",
    "plt.plot(epochs, loss, label='Training loss')\n",
    "plt.plot(epochs, val_loss, label='Validation loss')\n",
    "plt.title('Training and Val loss')\n",
    "plt.legend()\n",
    " \n",
    "plt.show()"
   ]
  },
  {
   "cell_type": "code",
   "execution_count": null,
   "id": "7c543f3c-953c-45a5-892d-0a6ef5a420dc",
   "metadata": {},
   "outputs": [],
   "source": []
  },
  {
   "cell_type": "code",
   "execution_count": null,
   "id": "13c74c36-235d-4a7c-8182-4ad15b3bfafa",
   "metadata": {},
   "outputs": [],
   "source": []
  }
 ],
 "metadata": {
  "kernelspec": {
   "display_name": "Python 3 (ipykernel)",
   "language": "python",
   "name": "python3"
  },
  "language_info": {
   "codemirror_mode": {
    "name": "ipython",
    "version": 3
   },
   "file_extension": ".py",
   "mimetype": "text/x-python",
   "name": "python",
   "nbconvert_exporter": "python",
   "pygments_lexer": "ipython3",
   "version": "3.7.6"
  }
 },
 "nbformat": 4,
 "nbformat_minor": 5
}
